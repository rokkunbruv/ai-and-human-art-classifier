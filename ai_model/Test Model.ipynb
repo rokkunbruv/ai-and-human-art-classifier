{
 "cells": [
  {
   "cell_type": "markdown",
   "metadata": {},
   "source": [
    "# Test AI and Human Art Classifier Model"
   ]
  },
  {
   "cell_type": "markdown",
   "metadata": {},
   "source": [
    "Install required dependencies:"
   ]
  },
  {
   "cell_type": "code",
   "execution_count": null,
   "metadata": {},
   "outputs": [],
   "source": [
    "!pip install huggingface_hub numpy transformers tensorflow"
   ]
  },
  {
   "cell_type": "markdown",
   "metadata": {},
   "source": [
    "Login with your HuggingFace token:"
   ]
  },
  {
   "cell_type": "code",
   "execution_count": null,
   "metadata": {},
   "outputs": [],
   "source": [
    "# you can also specify your huggingface token in your .env file as \"HF_TOKEN\"\n",
    "\n",
    "from huggingface_hub import notebook_login\n",
    "\n",
    "notebook_login()"
   ]
  },
  {
   "cell_type": "markdown",
   "metadata": {},
   "source": [
    "Input the file path of the image you want the model to test on:"
   ]
  },
  {
   "cell_type": "code",
   "execution_count": 19,
   "metadata": {},
   "outputs": [],
   "source": [
    "# add your image path here\n",
    "image_path = \"your_photo.jpg\""
   ]
  },
  {
   "cell_type": "markdown",
   "metadata": {},
   "source": [
    "Import image from its specified path. In cases when the image's color space is not RGB, it will be converted to RGB."
   ]
  },
  {
   "cell_type": "code",
   "execution_count": 20,
   "metadata": {},
   "outputs": [],
   "source": [
    "from pathlib import Path\n",
    "from PIL import Image\n",
    "import numpy as np\n",
    "\n",
    "image = Image.open(Path(image_path))\n",
    "\n",
    "np_image = np.array(image)\n",
    "if np_image.shape[-1] != 3:\n",
    "    image = image.convert(\"RGB\")"
   ]
  },
  {
   "cell_type": "markdown",
   "metadata": {},
   "source": [
    "Display the image to be passed on the model."
   ]
  },
  {
   "cell_type": "code",
   "execution_count": null,
   "metadata": {},
   "outputs": [],
   "source": [
    "image"
   ]
  },
  {
   "cell_type": "markdown",
   "metadata": {},
   "source": [
    "Test the `rostcherno/ai-and-human-art-classifier` model from 🤗 Hub using the imported image. The label predicted by the model and the confidence level is displayed as output."
   ]
  },
  {
   "cell_type": "code",
   "execution_count": null,
   "metadata": {},
   "outputs": [],
   "source": [
    "from transformers import pipeline, AutoImageProcessor, TFAutoModelForImageClassification\n",
    "import tensorflow as tf\n",
    "\n",
    "classifier = pipeline(\"image-classification\", model=\"rostcherno/ai-and-human-art-classifier\")\n",
    "classifier(image)\n",
    "\n",
    "image_processor = AutoImageProcessor.from_pretrained(\"rostcherno/ai-and-human-art-classifier\")\n",
    "inputs = image_processor(image, return_tensors=\"tf\")\n",
    "\n",
    "model = TFAutoModelForImageClassification.from_pretrained(\"rostcherno/ai-and-human-art-classifier\")\n",
    "logits = model(**inputs).logits\n",
    "probabilities = tf.nn.softmax(logits, axis=-1)\n",
    "\n",
    "predicted_class_id = int(tf.math.argmax(logits, axis=-1)[0])\n",
    "confidence_level = float(tf.reduce_max(probabilities, axis=-1)[0])\n",
    "\n",
    "predicted_label = model.config.id2label[predicted_class_id]\n",
    "\n",
    "print(f\"Predicted Label: {predicted_label}\\nConfidence Level: {confidence_level}\")"
   ]
  }
 ],
 "metadata": {
  "kernelspec": {
   "display_name": "venv",
   "language": "python",
   "name": "python3"
  },
  "language_info": {
   "codemirror_mode": {
    "name": "ipython",
    "version": 3
   },
   "file_extension": ".py",
   "mimetype": "text/x-python",
   "name": "python",
   "nbconvert_exporter": "python",
   "pygments_lexer": "ipython3",
   "version": "3.12.4"
  }
 },
 "nbformat": 4,
 "nbformat_minor": 2
}
